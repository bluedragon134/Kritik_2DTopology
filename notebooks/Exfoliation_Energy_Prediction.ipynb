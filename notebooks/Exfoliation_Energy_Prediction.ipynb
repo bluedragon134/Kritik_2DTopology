{
  "cells": [
    {
      "cell_type": "markdown",
      "id": "64acb0ee",
      "metadata": {
        "id": "64acb0ee"
      },
      "source": [
        "# Exfoliation Energy Prediction\n",
        "\n",
        "This notebook demonstrates a simple ML model for predicting exfoliation energy."
      ]
    },
    {
      "cell_type": "code",
      "execution_count": null,
      "id": "86145ba0",
      "metadata": {
        "id": "86145ba0"
      },
      "outputs": [],
      "source": [
        "import pandas as pd\n",
        "import numpy as np\n",
        "from sklearn.model_selection import train_test_split\n",
        "from sklearn.linear_model import LinearRegression\n",
        "from sklearn.metrics import mean_squared_error\n",
        "import matplotlib.pyplot as plt"
      ]
    },
    {
      "cell_type": "markdown",
      "id": "85e9c825",
      "metadata": {
        "id": "85e9c825"
      },
      "source": [
        "## Step 1: Load the dataset"
      ]
    },
    {
      "cell_type": "code",
      "execution_count": null,
      "id": "ce5f8d99",
      "metadata": {
        "id": "ce5f8d99"
      },
      "outputs": [],
      "source": [
        "file_path = '/data/db(in).csv'\n",
        "data = pd.read_csv(file_path)\n",
        "data.head()"
      ]
    },
    {
      "cell_type": "markdown",
      "id": "d487e452",
      "metadata": {
        "id": "d487e452"
      },
      "source": [
        "## Step 2: Data Cleaning and Preprocessing"
      ]
    },
    {
      "cell_type": "code",
      "execution_count": null,
      "id": "52a94aa2",
      "metadata": {
        "id": "52a94aa2"
      },
      "outputs": [],
      "source": [
        "# Dropping rows with missing target values (exfoliation_energy_per_atom)\n",
        "data_cleaned = data[['energy_per_atom', 'total_magnetization', 'decomposition_energy', 'exfoliation_energy_per_atom']].dropna()\n"
      ]
    },
    {
      "cell_type": "markdown",
      "id": "c475c579",
      "metadata": {
        "id": "c475c579"
      },
      "source": [
        "## Step 3: Feature Selection- This is an example, and you should select more features, Hint: Featurize composition using matminer and include spacegroups"
      ]
    },
    {
      "cell_type": "code",
      "execution_count": null,
      "id": "58dd0946",
      "metadata": {
        "id": "58dd0946"
      },
      "outputs": [],
      "source": [
        "#yt video for featurization: https://youtu.be/nFQZLn8VFsQ?si=X3NmGDnU-XimfcKG\n",
        "\n",
        "X = data_cleaned[['energy_per_atom', 'total_magnetization', 'decomposition_energy']]\n",
        "y = data_cleaned['exfoliation_energy_per_atom']\n"
      ]
    },
    {
      "cell_type": "markdown",
      "id": "a380dfbd",
      "metadata": {
        "id": "a380dfbd"
      },
      "source": [
        "## Step 4: Split the data into training and testing sets"
      ]
    },
    {
      "cell_type": "code",
      "execution_count": null,
      "id": "d98f77b6",
      "metadata": {
        "id": "d98f77b6"
      },
      "outputs": [],
      "source": [
        "X_train, X_test, y_train, y_test = train_test_split(X, y, test_size=0.2, random_state=42)"
      ]
    },
    {
      "cell_type": "markdown",
      "id": "23069707",
      "metadata": {
        "id": "23069707"
      },
      "source": [
        "## Step 5: Model Training - Linear Regression"
      ]
    },
    {
      "cell_type": "code",
      "execution_count": null,
      "id": "08fa211c",
      "metadata": {
        "id": "08fa211c"
      },
      "outputs": [],
      "source": [
        "model = LinearRegression()\n",
        "model.fit(X_train, y_train)"
      ]
    },
    {
      "cell_type": "markdown",
      "id": "ec717471",
      "metadata": {
        "id": "ec717471"
      },
      "source": [
        "## Step 6: Predictions and Evaluation"
      ]
    },
    {
      "cell_type": "code",
      "execution_count": null,
      "id": "885a9de4",
      "metadata": {
        "id": "885a9de4"
      },
      "outputs": [],
      "source": [
        "\n",
        "y_pred = model.predict(X_test)\n",
        "rmse = np.sqrt(mean_squared_error(y_test, y_pred))\n",
        "print(f\"Root Mean Squared Error (RMSE): {rmse:.4f}\")\n"
      ]
    },
    {
      "cell_type": "markdown",
      "id": "e7220d60",
      "metadata": {
        "id": "e7220d60"
      },
      "source": [
        "## Step 7: Plotting Actual vs Predicted"
      ]
    },
    {
      "cell_type": "code",
      "execution_count": null,
      "id": "0b3e5836",
      "metadata": {
        "id": "0b3e5836"
      },
      "outputs": [],
      "source": [
        "\n",
        "plt.figure(figsize=(8,6))\n",
        "plt.scatter(y_test, y_pred, alpha=0.7)\n",
        "plt.plot([y.min(), y.max()], [y.min(), y.max()], 'k--', lw=2, color='red')\n",
        "plt.xlabel(\"Actual Exfoliation Energy\")\n",
        "plt.ylabel(\"Predicted Exfoliation Energy\")\n",
        "plt.title(\"Actual vs Predicted Exfoliation Energy\")\n",
        "plt.show()\n"
      ]
    }
  ],
  "metadata": {
    "colab": {
      "provenance": []
    }
  },
  "nbformat": 4,
  "nbformat_minor": 5
}